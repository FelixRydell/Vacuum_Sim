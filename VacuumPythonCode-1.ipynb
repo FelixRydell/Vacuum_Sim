{
 "cells": [
  {
   "cell_type": "markdown",
   "id": "c1a32ba9",
   "metadata": {},
   "source": [
    "Vacuum cleaner AI.\n",
    "\n",
    "This program is a vacuum cleaner AI that via a search algorithm navigates through a room with blocks where it can't move. Instead of placing dust and dirt, we are instead requiring that the vacuum passes every square that it can with respect to its starting position and the blocks in the room.\n",
    "\n",
    "Written in collaboration with Danai Deligeorgaki. "
   ]
  },
  {
   "cell_type": "code",
   "execution_count": 68,
   "id": "170311e7",
   "metadata": {},
   "outputs": [],
   "source": [
    "import numpy as np\n",
    "from sklearn.utils import shuffle\n",
    "\n",
    "n = 7 # number of rows\n",
    "m = 7 # number of columns\n",
    "k = 10 # number of obstacles\n",
    "A=np.zeros((n,m)) # The initialized matrix describing the room\n",
    "obst = (n*m)*10 # value we assign to the entries of A corresponding to each obstacle"
   ]
  },
  {
   "cell_type": "markdown",
   "id": "4f236a9b",
   "metadata": {},
   "source": [
    "Next we initialize the position of the obstacles and then the starting position of the vacuum. "
   ]
  },
  {
   "cell_type": "code",
   "execution_count": 69,
   "id": "59194324",
   "metadata": {},
   "outputs": [],
   "source": [
    "counter=0 # count number of obstacles that have been placed\n",
    "while counter<k:\n",
    "    r = np.random.randint(n) #pick a random row of A\n",
    "    c = np.random.randint(m) #pick a random column of A\n",
    "    if A[r][c]==0: #check that there is not another obstacle assigned to the entry of A that was randomly chosen\n",
    "        A[r][c]= obst #update the chosen entry of A with the obstacle value\n",
    "        counter=counter+1\n",
    "\n",
    "Ainitial=np.array(A,copy=True)\n",
    "vac_r=-1\n",
    "vac_c=-1 #the initial position of the vacuum will be later set to be (var_r,var_c)\n",
    "\n",
    "placed = False # placed is put to True when the initial position of the vacuum has been determined\n",
    "while placed == False:\n",
    "    r = np.random.randint(n) # pick a random row of A\n",
    "    c = np.random.randint(m) # pick a random column of A\n",
    "    if A[r][c]==0: # check that there is no obstacle assigned to the entry of A that was randomly chosen\n",
    "        placed = True\n",
    "        vac_r=r\n",
    "        vac_c=c # set the initial position of the vacuum to (var_r,var_c)\n",
    "        A[r][c]=np.intc(1) # assing value 1 to the initial position of the vacuum"
   ]
  },
  {
   "cell_type": "code",
   "execution_count": 70,
   "id": "472c9654",
   "metadata": {},
   "outputs": [
    {
     "name": "stdout",
     "output_type": "stream",
     "text": [
      "[[  0.   0.   0.   0.   0.   0.   0.]\n",
      " [  0. 490.   0.   0.   0.   0.   0.]\n",
      " [  0.   0. 490.   0.   0.   0. 490.]\n",
      " [  0.   0. 490.   0. 490. 490.   0.]\n",
      " [  0.   1.   0.   0. 490. 490.   0.]\n",
      " [  0.   0. 490.   0.   0.   0.   0.]\n",
      " [  0.   0.   0.   0.   0.   0. 490.]]\n"
     ]
    }
   ],
   "source": [
    "#print(Ainitial)\n",
    "print(A)"
   ]
  },
  {
   "cell_type": "markdown",
   "id": "91577674",
   "metadata": {},
   "source": [
    "Here we implement the AI algorithm."
   ]
  },
  {
   "cell_type": "code",
   "execution_count": 71,
   "id": "f45d0443",
   "metadata": {},
   "outputs": [],
   "source": [
    "def AI_alg(M,deadEnd): # Input matrix with vaccum history the position of dead-end.\n",
    "    # Idea: Where M has value 0<x<obst put a -1 except put a 1 at the dead-end. \n",
    "    # (i) At the dead-end, check the surrounding 4 boxes, put a 2 where there is a -1.\n",
    "    # Repeat (i) for every entry of M of value 2, and put value 3 where there is a -1 instead. \n",
    "    # Repeat (i) for every entry of M of value 3, and put value 4 where there is a -1 instead and so on...\n",
    "    # Key idea: When the loop is done, the value of each square of M that is not an obstacle and that is reachable by \n",
    "    # the dead-end corresponds to the least amount of steps needed to get there. \n",
    "    # If one of the 4 surrounding boxes is ever of value 0, break the loop. We have found a closest zero. \n",
    "    # Set the closest zero as destination and set variable count= its corresponding value.\n",
    "    # If no zero is ever found, break the loop, and set destination to the starting point, with count= the starting\n",
    "    # point's corresponding value.\n",
    "    # Back-track by going to a square of one lower value until we reach the dead-end. This gives us a fastest path to\n",
    "    # The closest zero. \n",
    "    Mstar=np.array(M,copy=True)\n",
    "    for i in range(n):\n",
    "        for j in range(m):\n",
    "            if Mstar[i,j]>=1 and Mstar[i,j]<obst:\n",
    "                Mstar[i,j]=-1\n",
    "\n",
    "    Mstar[deadEnd[0],deadEnd[1]]=1 \n",
    "    done=False\n",
    "    curVal=1\n",
    "    dest_r=-1\n",
    "    dest_c=-1\n",
    "    while done==False:\n",
    "        changeMade=False # If change is made to Mstar in the for loops below, set to true \n",
    "        for i in range(n):\n",
    "            for j in range(m):\n",
    "                if done==False and Mstar[i,j]==curVal:\n",
    "                    if done==False and i-1>=0:\n",
    "                        if Mstar[i-1,j]==-1: \n",
    "                            Mstar[i-1,j]=curVal+1\n",
    "                            changeMade=True\n",
    "                        if Mstar[i-1,j]==0:\n",
    "                            changeMade=True\n",
    "                            done=True\n",
    "                            dest_r=i\n",
    "                            dest_c=j\n",
    "                    if done==False and i+1<n:\n",
    "                        if Mstar[i+1,j]==-1: \n",
    "                            Mstar[i+1,j]=curVal+1\n",
    "                            changeMade=True\n",
    "                        if Mstar[i+1,j]==0:\n",
    "                            changeMade=True\n",
    "                            done=True\n",
    "                            dest_r=i\n",
    "                            dest_c=j\n",
    "                    if done==False and j-1>=0:\n",
    "                        if Mstar[i,j-1]==-1: \n",
    "                            Mstar[i,j-1]=curVal+1\n",
    "                            changeMade=True\n",
    "                        if Mstar[i,j-1]==0:\n",
    "                            changeMade=True\n",
    "                            done=True\n",
    "                            dest_r=i\n",
    "                            dest_c=j\n",
    "                    if done==False and j+1<m:\n",
    "                        if Mstar[i,j+1]==-1: \n",
    "                            Mstar[i,j+1]=curVal+1\n",
    "                            changeMade=True\n",
    "                        if Mstar[i,j+1]==0:\n",
    "                            done=True\n",
    "                            changeMade=True\n",
    "                            dest_r=i\n",
    "                            dest_c=j\n",
    "        curVal=curVal+1\n",
    "        if changeMade==False: #Return to start\n",
    "            dest_r=vac_r\n",
    "            dest_c=vac_c\n",
    "            done=True\n",
    "\n",
    "    arr_backtrack=[[dest_r,dest_c]]\n",
    "    count=Mstar[dest_r,dest_c] # curVal\n",
    "    while count>1:\n",
    "        bt=arr_backtrack[0]\n",
    "        if bt[0]-1>=0 and Mstar[bt[0]-1,bt[1]]==count-1: \n",
    "            arr_backtrack=[[bt[0]-1,bt[1]]]+arr_backtrack\n",
    "        elif bt[0]+1<n and Mstar[bt[0]+1,bt[1]]==count-1: \n",
    "            arr_backtrack=[[bt[0]+1,bt[1]]]+arr_backtrack\n",
    "        elif bt[1]-1>=0 and Mstar[bt[0],bt[1]-1]==count-1: \n",
    "            arr_backtrack=[[bt[0],bt[1]-1]]+arr_backtrack\n",
    "        elif bt[1]+1<m and Mstar[bt[0],bt[1]+1]==count-1: \n",
    "            arr_backtrack=[[bt[0],bt[1]+1]]+arr_backtrack\n",
    "        count=count-1\n",
    "\n",
    "    return arr_backtrack"
   ]
  },
  {
   "cell_type": "markdown",
   "id": "9081a02b",
   "metadata": {},
   "source": [
    "Next we write the code for running the vacuum. We introduce the variables of the current position and keep track of each step we are taking. At each step we are randomizing the direction we would like to go, and check if there is a zero there. If there is no zero, then we start to backtrack, unless we are at the starting position, then we are finished."
   ]
  },
  {
   "cell_type": "code",
   "execution_count": 72,
   "id": "23d06c62",
   "metadata": {},
   "outputs": [],
   "source": [
    "cur_pos_r=vac_r # (cur_pos_r,cur_pos_c) denotes the current position of the vacuum, and varies as the algorithm runs.\n",
    "cur_pos_c=vac_c \n",
    "\n",
    "step=1 # Placing the vacuum was the first step of the algorithm. \n",
    "       # As the vacuum moves to neighbouring blocks that have not been visited before, the step increases by 1. \n",
    "\n",
    "done=False # The algorithm is completed when done==True. \n",
    "while done == False:\n",
    "    arr=shuffle(np.arange(4)) # Randomly prioritize the direction that the vacuum will attempt to move to:\n",
    "                              # 0 is up, 1 is down, 2 is left, 3 is right.\n",
    "    dire=-1 # We initialize the direction as -1    \n",
    "    counter=0\n",
    "   \n",
    "    while dire==-1 and counter <4:\n",
    "        if arr[counter]==0 and cur_pos_r>0: # if the preferred direction is \"up\" and the vacuum can move \"up\" in A\n",
    "            if A[cur_pos_r-1][cur_pos_c]==0: # if the entry of A \"up\" compared to the vacuum has value \"0\"\n",
    "                dire=0 # means that the direction the vacuum will take after the while loop is \"up\"\n",
    "                step=step+1\n",
    "                A[cur_pos_r-1][cur_pos_c]=step # assign the value of \"step\" to the entry of the table that is \"up\"\n",
    "        elif arr[counter]==1 and cur_pos_r<n-1:\n",
    "            if A[cur_pos_r+1][cur_pos_c]==0: \n",
    "                dire=1\n",
    "                step=step+1\n",
    "                A[cur_pos_r+1][cur_pos_c]=step\n",
    "        elif arr[counter]==2 and cur_pos_c>0:\n",
    "            if A[cur_pos_r][cur_pos_c-1]==0:\n",
    "                dire=2\n",
    "                step=step+1\n",
    "                A[cur_pos_r][cur_pos_c-1]=step\n",
    "        elif arr[counter]==3 and cur_pos_c<m-1:\n",
    "            if A[cur_pos_r][cur_pos_c+1]==0:\n",
    "                dire=3\n",
    "                step=step+1\n",
    "                A[cur_pos_r][cur_pos_c+1]=step\n",
    "        counter=counter+1\n",
    "   \n",
    "    if dire==-1: # if there is no block with entry \"0\" that the vacuum can reach with one move, then dire==-1\n",
    "        if cur_pos_r==vac_r and cur_pos_c==vac_c: # if, additionally, the vacuum is located in its initial position\n",
    "            done = True # the algorithm ends\n",
    "        else: # otherwise the vacuum should backtrack\n",
    "            arr_bt=AI_alg(A,[cur_pos_r,cur_pos_c])\n",
    "            for i in range(1,len(arr_bt)):\n",
    "                cur_pos_r=arr_bt[i][0]\n",
    "                cur_pos_c=arr_bt[i][1]\n",
    "        \n",
    "         \n",
    "    if dire!=-1 and done==False: # if we are not done, then here we update the position of the vacuum cleaner \n",
    "        if dire==0:\n",
    "            cur_pos_r=cur_pos_r-1\n",
    "            cur_pos_c=cur_pos_c\n",
    "        elif dire==1:\n",
    "            cur_pos_r=cur_pos_r+1\n",
    "            cur_pos_c=cur_pos_c\n",
    "        elif dire==2:\n",
    "            cur_pos_r=cur_pos_r\n",
    "            cur_pos_c=cur_pos_c-1\n",
    "        elif dire==3:\n",
    "            cur_pos_r=cur_pos_r\n",
    "            cur_pos_c=cur_pos_c+1 "
   ]
  },
  {
   "cell_type": "markdown",
   "id": "3110e37b",
   "metadata": {},
   "source": [
    "Below we print the matrix A to see that the way the vacuum moves makes sense with respect to the code above"
   ]
  },
  {
   "cell_type": "code",
   "execution_count": 73,
   "id": "0674bc8c",
   "metadata": {},
   "outputs": [
    {
     "data": {
      "text/plain": [
       "array([[  8.,   9.,  10.,  11.,  12.,  15.,  16.],\n",
       "       [  7., 490.,  22.,  21.,  13.,  14.,  17.],\n",
       "       [  6.,   5., 490.,  20.,  19.,  18., 490.],\n",
       "       [  3.,   4., 490.,  23., 490., 490.,  38.],\n",
       "       [  2.,   1.,  34.,  24., 490., 490.,  37.],\n",
       "       [ 32.,  31., 490.,  25.,  26.,  35.,  36.],\n",
       "       [ 33.,  30.,  29.,  28.,  27.,  39., 490.]])"
      ]
     },
     "execution_count": 73,
     "metadata": {},
     "output_type": "execute_result"
    }
   ],
   "source": [
    "A"
   ]
  },
  {
   "cell_type": "code",
   "execution_count": null,
   "id": "cc88fdfa",
   "metadata": {},
   "outputs": [],
   "source": []
  }
 ],
 "metadata": {
  "kernelspec": {
   "display_name": "Python 3",
   "language": "python",
   "name": "python3"
  },
  "language_info": {
   "codemirror_mode": {
    "name": "ipython",
    "version": 3
   },
   "file_extension": ".py",
   "mimetype": "text/x-python",
   "name": "python",
   "nbconvert_exporter": "python",
   "pygments_lexer": "ipython3",
   "version": "3.7.10"
  }
 },
 "nbformat": 4,
 "nbformat_minor": 5
}
